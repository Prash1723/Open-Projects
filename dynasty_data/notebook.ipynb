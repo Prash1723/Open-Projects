{
 "cells": [
  {
   "cell_type": "markdown",
   "id": "aa6c64c5",
   "metadata": {},
   "source": [
    "# Clean Data\n",
    "---\n",
    "\n",
    "## 1. Import Modules"
   ]
  },
  {
   "cell_type": "code",
   "execution_count": 70,
   "id": "4eb7aff2",
   "metadata": {},
   "outputs": [],
   "source": [
    "import numpy as np\n",
    "import pandas as pd\n",
    "from iso639 import find"
   ]
  },
  {
   "cell_type": "markdown",
   "id": "4e58cc35",
   "metadata": {},
   "source": [
    "## 2. Import Data"
   ]
  },
  {
   "cell_type": "code",
   "execution_count": 19,
   "id": "f9933196",
   "metadata": {},
   "outputs": [],
   "source": [
    "df = pd.read_csv('data.csv')"
   ]
  },
  {
   "cell_type": "markdown",
   "id": "bc013297",
   "metadata": {},
   "source": [
    "## 3. EDA"
   ]
  },
  {
   "cell_type": "code",
   "execution_count": 85,
   "id": "285aaf88",
   "metadata": {},
   "outputs": [
    {
     "name": "stdout",
     "output_type": "stream",
     "text": [
      "<class 'pandas.core.frame.DataFrame'>\n",
      "Index: 164 entries, 1 to 164\n",
      "Data columns (total 6 columns):\n",
      " #   Column           Non-Null Count  Dtype \n",
      "---  ------           --------------  ----- \n",
      " 0   empire/dynasty   164 non-null    object\n",
      " 1   established      164 non-null    object\n",
      " 2   disestablished   164 non-null    object\n",
      " 3   capital(s)       164 non-null    object\n",
      " 4   language(s)      164 non-null    object\n",
      " 5   present part of  164 non-null    object\n",
      "dtypes: object(6)\n",
      "memory usage: 9.0+ KB\n"
     ]
    }
   ],
   "source": [
    "df.info()"
   ]
  },
  {
   "cell_type": "code",
   "execution_count": 86,
   "id": "f3fd854b",
   "metadata": {},
   "outputs": [
    {
     "data": {
      "text/plain": [
       "empire/dynasty     0\n",
       "established        0\n",
       "disestablished     0\n",
       "capital(s)         0\n",
       "language(s)        0\n",
       "present part of    0\n",
       "dtype: int64"
      ]
     },
     "execution_count": 86,
     "metadata": {},
     "output_type": "execute_result"
    }
   ],
   "source": [
    "df.isnull().sum()"
   ]
  },
  {
   "cell_type": "code",
   "execution_count": 20,
   "id": "ef98d771",
   "metadata": {},
   "outputs": [
    {
     "data": {
      "text/html": [
       "<div>\n",
       "<style scoped>\n",
       "    .dataframe tbody tr th:only-of-type {\n",
       "        vertical-align: middle;\n",
       "    }\n",
       "\n",
       "    .dataframe tbody tr th {\n",
       "        vertical-align: top;\n",
       "    }\n",
       "\n",
       "    .dataframe thead th {\n",
       "        text-align: right;\n",
       "    }\n",
       "</style>\n",
       "<table border=\"1\" class=\"dataframe\">\n",
       "  <thead>\n",
       "    <tr style=\"text-align: right;\">\n",
       "      <th></th>\n",
       "      <th>empire/dynasty</th>\n",
       "      <th>established</th>\n",
       "      <th>disestablished</th>\n",
       "      <th>capital(s)</th>\n",
       "      <th>language(s)</th>\n",
       "      <th>present part of</th>\n",
       "    </tr>\n",
       "  </thead>\n",
       "  <tbody>\n",
       "    <tr>\n",
       "      <th>0</th>\n",
       "      <td>NaN</td>\n",
       "      <td>NaN</td>\n",
       "      <td>NaN</td>\n",
       "      <td>NaN</td>\n",
       "      <td>NaN</td>\n",
       "      <td>NaN</td>\n",
       "    </tr>\n",
       "    <tr>\n",
       "      <th>1</th>\n",
       "      <td>Brihadratha dynasty,\\n</td>\n",
       "      <td>1700 BCE\\n</td>\n",
       "      <td>682 BCE\\n</td>\n",
       "      <td>Girivraja,\\n</td>\n",
       "      <td>Vedic Sanskrit,\\n</td>\n",
       "      <td>,India,\\n</td>\n",
       "    </tr>\n",
       "    <tr>\n",
       "      <th>2</th>\n",
       "      <td>Gopala Dynasty,\\n</td>\n",
       "      <td>1400 BCE\\n</td>\n",
       "      <td>841 BCE\\n</td>\n",
       "      <td>Pashupatinath Temple,, ,Gaushala,, ,Kathmandu,\\n</td>\n",
       "      <td>Sanskrit,\\n</td>\n",
       "      <td>,Nepal,\\n</td>\n",
       "    </tr>\n",
       "    <tr>\n",
       "      <th>3</th>\n",
       "      <td>Pundravardhana Kingdom,\\n</td>\n",
       "      <td>1280 BCE\\n</td>\n",
       "      <td>345 BCE\\n</td>\n",
       "      <td>Mahasthangarh,\\n</td>\n",
       "      <td>Pali,, ,Sanskrit,\\n</td>\n",
       "      <td>,Bangladesh, ,India,\\n</td>\n",
       "    </tr>\n",
       "    <tr>\n",
       "      <th>4</th>\n",
       "      <td>Kuru Kingdom,\\n</td>\n",
       "      <td>1200 BCE\\n</td>\n",
       "      <td>345 BCE\\n</td>\n",
       "      <td>Āsandīvat,, ,Hastinapura,, ,Indraprastha,\\n</td>\n",
       "      <td>Sanskrit,\\n</td>\n",
       "      <td>,India,\\n</td>\n",
       "    </tr>\n",
       "  </tbody>\n",
       "</table>\n",
       "</div>"
      ],
      "text/plain": [
       "              empire/dynasty established disestablished   \n",
       "0                        NaN         NaN            NaN  \\\n",
       "1     Brihadratha dynasty,\\n  1700 BCE\\n      682 BCE\\n   \n",
       "2          Gopala Dynasty,\\n  1400 BCE\\n      841 BCE\\n   \n",
       "3  Pundravardhana Kingdom,\\n  1280 BCE\\n      345 BCE\\n   \n",
       "4            Kuru Kingdom,\\n  1200 BCE\\n      345 BCE\\n   \n",
       "\n",
       "                                         capital(s)          language(s)   \n",
       "0                                               NaN                  NaN  \\\n",
       "1                                      Girivraja,\\n    Vedic Sanskrit,\\n   \n",
       "2  Pashupatinath Temple,, ,Gaushala,, ,Kathmandu,\\n          Sanskrit,\\n   \n",
       "3                                  Mahasthangarh,\\n  Pali,, ,Sanskrit,\\n   \n",
       "4       Āsandīvat,, ,Hastinapura,, ,Indraprastha,\\n          Sanskrit,\\n   \n",
       "\n",
       "           present part of  \n",
       "0                      NaN  \n",
       "1                ,India,\\n  \n",
       "2                ,Nepal,\\n  \n",
       "3   ,Bangladesh, ,India,\\n  \n",
       "4                ,India,\\n  "
      ]
     },
     "execution_count": 20,
     "metadata": {},
     "output_type": "execute_result"
    }
   ],
   "source": [
    "df.head()"
   ]
  },
  {
   "cell_type": "markdown",
   "id": "fc2cbc28",
   "metadata": {},
   "source": [
    "## 4. Cleaning\n",
    "\n",
    "---\n",
    "\n",
    "### 4a. Drop Null Values"
   ]
  },
  {
   "cell_type": "code",
   "execution_count": 21,
   "id": "2ea031ac",
   "metadata": {},
   "outputs": [],
   "source": [
    "df.dropna(axis=0, inplace=True)"
   ]
  },
  {
   "cell_type": "markdown",
   "id": "bf61896b",
   "metadata": {},
   "source": [
    "### 4b. Clean string values\n",
    "\n",
    "Remove the \"\\n\" instance from the string"
   ]
  },
  {
   "cell_type": "code",
   "execution_count": 22,
   "id": "1efbbe9d",
   "metadata": {},
   "outputs": [],
   "source": [
    "df = df.applymap(lambda x: x.strip().replace(\"\\n\",\"\") if isinstance(x, str) else x)"
   ]
  },
  {
   "cell_type": "markdown",
   "id": "c091d5a9",
   "metadata": {},
   "source": [
    "### 4c. Clean the country feature"
   ]
  },
  {
   "cell_type": "code",
   "execution_count": 34,
   "id": "0080236e",
   "metadata": {},
   "outputs": [],
   "source": [
    "df['present part of'] = df['present part of'].apply(lambda x: str(GeoText(x).countries))"
   ]
  },
  {
   "cell_type": "code",
   "execution_count": 49,
   "id": "35f99e25",
   "metadata": {},
   "outputs": [
    {
     "data": {
      "text/plain": [
       "1                                      ['India']\n",
       "2                                      ['Nepal']\n",
       "3                        ['Bangladesh', 'India']\n",
       "4                                      ['India']\n",
       "5                                      ['India']\n",
       "                         ...                    \n",
       "160                        ['India', 'Pakistan']\n",
       "161                                    ['India']\n",
       "162                                    ['India']\n",
       "163    ['Nepal', 'India', 'China', 'Bangladesh']\n",
       "164               ['India', 'Pakistan', 'China']\n",
       "Name: present part of, Length: 164, dtype: object"
      ]
     },
     "execution_count": 49,
     "metadata": {},
     "output_type": "execute_result"
    }
   ],
   "source": [
    "df['present part of']"
   ]
  },
  {
   "cell_type": "markdown",
   "id": "9ed905f3",
   "metadata": {},
   "source": [
    "### 4d. Clean the languages feature"
   ]
  },
  {
   "cell_type": "code",
   "execution_count": null,
   "id": "2284f07b",
   "metadata": {},
   "outputs": [],
   "source": [
    "df['language(s)'].apply(lambda x: [find(i) for i in x.split(',') if isinstance(i, str)])"
   ]
  },
  {
   "cell_type": "code",
   "execution_count": null,
   "id": "16a04b58",
   "metadata": {},
   "outputs": [],
   "source": []
  }
 ],
 "metadata": {
  "kernelspec": {
   "display_name": "Python 3 (ipykernel)",
   "language": "python",
   "name": "python3"
  },
  "language_info": {
   "codemirror_mode": {
    "name": "ipython",
    "version": 3
   },
   "file_extension": ".py",
   "mimetype": "text/x-python",
   "name": "python",
   "nbconvert_exporter": "python",
   "pygments_lexer": "ipython3",
   "version": "3.9.12"
  }
 },
 "nbformat": 4,
 "nbformat_minor": 5
}
